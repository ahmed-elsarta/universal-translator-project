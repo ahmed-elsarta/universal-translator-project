{
 "cells": [
  {
   "attachments": {},
   "cell_type": "markdown",
   "metadata": {},
   "source": [
    "The following code is intended as a demo to send the input from user into the poe api, not for merchantability or\n",
    "any other commercial use"
   ]
  },
  {
   "cell_type": "code",
   "execution_count": 2,
   "metadata": {},
   "outputs": [],
   "source": [
    "import poe\n",
    "client = poe.Client(\"TOKEN-HERE\")"
   ]
  },
  {
   "cell_type": "code",
   "execution_count": 2,
   "metadata": {},
   "outputs": [],
   "source": [
    "import json"
   ]
  },
  {
   "cell_type": "code",
   "execution_count": 3,
   "metadata": {},
   "outputs": [
    {
     "name": "stdout",
     "output_type": "stream",
     "text": [
      "{\n",
      "  \"beaver\": \"GPT-4\",\n",
      "  \"a2\": \"Claude-instant\",\n",
      "  \"capybara\": \"Sage\",\n",
      "  \"chinchilla\": \"ChatGPT\",\n",
      "  \"a2_100k\": \"Claude-instant-100k\",\n",
      "  \"a2_2\": \"Claude+\"\n",
      "}\n"
     ]
    }
   ],
   "source": [
    "print(json.dumps(client.bot_names, indent=2))"
   ]
  },
  {
   "cell_type": "code",
   "execution_count": 3,
   "metadata": {},
   "outputs": [],
   "source": [
    "def get_response(message):\n",
    "  response =\"\"\n",
    "  for chunk in client.send_message(\"chinchilla\", message):\n",
    "    response += (chunk[\"text_new\"])\n",
    "  return response\n",
    "def clear_context():\n",
    "  client.send_chat_break(\"chinchilla\")"
   ]
  },
  {
   "cell_type": "code",
   "execution_count": 27,
   "metadata": {},
   "outputs": [],
   "source": [
    "input_language = \"english\"\n",
    "output_language = \"egyptian colloquial arabic\"\n",
    "input_text = \"Hello, Mister Ahmed, how are you today?\"\n",
    "prompt = f\"\"\"\n",
    "your task is to translate the text delimited by triple backticks from {input_language} to {output_language}:\n",
    "only return the translated text, not the quotation marks or any other preamble or postscript\n",
    "```{input_text}```\n",
    "\"\"\""
   ]
  },
  {
   "cell_type": "code",
   "execution_count": 21,
   "metadata": {},
   "outputs": [],
   "source": [
    "clear_context()"
   ]
  },
  {
   "cell_type": "code",
   "execution_count": 31,
   "metadata": {},
   "outputs": [
    {
     "data": {
      "text/plain": [
       "'مرحبا يا أستاذ أحمد، إزيك النهاردة؟'"
      ]
     },
     "execution_count": 31,
     "metadata": {},
     "output_type": "execute_result"
    }
   ],
   "source": [
    "get_response(prompt)"
   ]
  },
  {
   "cell_type": "code",
   "execution_count": 5,
   "metadata": {},
   "outputs": [],
   "source": [
    "def translate(input_language, output_language, input_text):\n",
    "    clear_context()\n",
    "    if input_language == \"Detect Language\":\n",
    "        input_language = \"the language of the text you are translating\"\n",
    "    prompt = f\"\"\"\n",
    "    your task is to translate the text delimited by triple backticks from {input_language} to {output_language}:\n",
    "    only return the translated text, not the quotation marks or any other preamble or postscript\n",
    "    ```{input_text}```\n",
    "    \"\"\"\n",
    "    response = get_response(prompt)\n",
    "    return response"
   ]
  },
  {
   "cell_type": "code",
   "execution_count": 6,
   "metadata": {},
   "outputs": [
    {
     "name": "stdout",
     "output_type": "stream",
     "text": [
      "مرحبا هناك السيد محمد، كيف حالك اليوم؟\n"
     ]
    }
   ],
   "source": [
    "print(translate('english','arabic', 'Hello there mister Mohamed, how are you doing today?'))"
   ]
  }
 ],
 "metadata": {
  "kernelspec": {
   "display_name": "Python 3",
   "language": "python",
   "name": "python3"
  },
  "language_info": {
   "codemirror_mode": {
    "name": "ipython",
    "version": 3
   },
   "file_extension": ".py",
   "mimetype": "text/x-python",
   "name": "python",
   "nbconvert_exporter": "python",
   "pygments_lexer": "ipython3",
   "version": "3.9.10"
  },
  "orig_nbformat": 4
 },
 "nbformat": 4,
 "nbformat_minor": 2
}
